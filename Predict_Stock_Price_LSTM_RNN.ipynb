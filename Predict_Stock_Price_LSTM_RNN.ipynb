{
  "nbformat": 4,
  "nbformat_minor": 0,
  "metadata": {
    "colab": {
      "name": "Predict Stock Price : LSTM RNN.ipynb",
      "provenance": [],
      "collapsed_sections": [
        "_7-r0RwaVwj6",
        "GOZOKe6kZpBq"
      ],
      "toc_visible": true,
      "include_colab_link": true
    },
    "kernelspec": {
      "name": "python3",
      "display_name": "Python 3"
    },
    "accelerator": "GPU"
  },
  "cells": [
    {
      "cell_type": "markdown",
      "metadata": {
        "id": "view-in-github",
        "colab_type": "text"
      },
      "source": [
        "<a href=\"https://colab.research.google.com/github/dhruvpratapsingh/Deep-Learning/blob/master/Predict_Stock_Price_LSTM_RNN.ipynb\" target=\"_parent\"><img src=\"https://colab.research.google.com/assets/colab-badge.svg\" alt=\"Open In Colab\"/></a>"
      ]
    },
    {
      "cell_type": "markdown",
      "metadata": {
        "id": "GS0x1c07BUJ_",
        "colab_type": "text"
      },
      "source": [
        "# Recurrent Neural Network\n",
        "\n",
        "### Predict Stock Market Trend"
      ]
    },
    {
      "cell_type": "code",
      "metadata": {
        "id": "kleO1kEeBHwE",
        "colab_type": "code",
        "colab": {}
      },
      "source": [
        "# Prepare evironment"
      ],
      "execution_count": 0,
      "outputs": []
    },
    {
      "cell_type": "markdown",
      "metadata": {
        "id": "rayMqH61BOvp",
        "colab_type": "text"
      },
      "source": [
        "## 1. Get Data"
      ]
    },
    {
      "cell_type": "code",
      "metadata": {
        "id": "bezIhRlZBZUI",
        "colab_type": "code",
        "colab": {
          "base_uri": "https://localhost:8080/",
          "height": 377
        },
        "outputId": "9857ce77-68b1-4e2f-b141-d20db8371db7"
      },
      "source": [
        "!pip install yfinance"
      ],
      "execution_count": 1,
      "outputs": [
        {
          "output_type": "stream",
          "text": [
            "Collecting yfinance\n",
            "  Downloading https://files.pythonhosted.org/packages/55/86/121a975a2dafa153648674db104f2a12a20bf0a4afad5caec0434b2bba91/yfinance-0.1.52.tar.gz\n",
            "Requirement already satisfied: pandas>=0.24 in /usr/local/lib/python3.6/dist-packages (from yfinance) (0.25.3)\n",
            "Requirement already satisfied: numpy>=1.15 in /usr/local/lib/python3.6/dist-packages (from yfinance) (1.17.4)\n",
            "Requirement already satisfied: requests>=2.20 in /usr/local/lib/python3.6/dist-packages (from yfinance) (2.21.0)\n",
            "Requirement already satisfied: multitasking>=0.0.7 in /usr/local/lib/python3.6/dist-packages (from yfinance) (0.0.9)\n",
            "Requirement already satisfied: python-dateutil>=2.6.1 in /usr/local/lib/python3.6/dist-packages (from pandas>=0.24->yfinance) (2.6.1)\n",
            "Requirement already satisfied: pytz>=2017.2 in /usr/local/lib/python3.6/dist-packages (from pandas>=0.24->yfinance) (2018.9)\n",
            "Requirement already satisfied: chardet<3.1.0,>=3.0.2 in /usr/local/lib/python3.6/dist-packages (from requests>=2.20->yfinance) (3.0.4)\n",
            "Requirement already satisfied: certifi>=2017.4.17 in /usr/local/lib/python3.6/dist-packages (from requests>=2.20->yfinance) (2019.11.28)\n",
            "Requirement already satisfied: idna<2.9,>=2.5 in /usr/local/lib/python3.6/dist-packages (from requests>=2.20->yfinance) (2.8)\n",
            "Requirement already satisfied: urllib3<1.25,>=1.21.1 in /usr/local/lib/python3.6/dist-packages (from requests>=2.20->yfinance) (1.24.3)\n",
            "Requirement already satisfied: six>=1.5 in /usr/local/lib/python3.6/dist-packages (from python-dateutil>=2.6.1->pandas>=0.24->yfinance) (1.12.0)\n",
            "Building wheels for collected packages: yfinance\n",
            "  Building wheel for yfinance (setup.py) ... \u001b[?25l\u001b[?25hdone\n",
            "  Created wheel for yfinance: filename=yfinance-0.1.52-py2.py3-none-any.whl size=21997 sha256=1859ac90c9b092229e06cb4a7fc128818d2d117b6583d6d1354a8a6699f03581\n",
            "  Stored in directory: /root/.cache/pip/wheels/1b/9d/ce/929e851fc7d649cd962c177220ad985675785aa97c54df5714\n",
            "Successfully built yfinance\n",
            "Installing collected packages: yfinance\n",
            "Successfully installed yfinance-0.1.52\n"
          ],
          "name": "stdout"
        }
      ]
    },
    {
      "cell_type": "code",
      "metadata": {
        "id": "mfeo7cBeBbv5",
        "colab_type": "code",
        "colab": {}
      },
      "source": [
        "import yfinance as yf\n",
        "\n",
        "ticker = yf.Ticker(\"SPY\")\n",
        "\n",
        "# get stock info\n",
        "#ticker.info\n",
        "\n",
        "#ticker.get_info()[\"longBusinessSummary\"]\n",
        "\n",
        "# get historical market data, here max is 5 years.\n",
        "df = ticker.history(period='5y', interval='1d')"
      ],
      "execution_count": 0,
      "outputs": []
    },
    {
      "cell_type": "code",
      "metadata": {
        "id": "Xlfv8QiTF-E_",
        "colab_type": "code",
        "colab": {
          "base_uri": "https://localhost:8080/",
          "height": 54
        },
        "outputId": "cafa5544-6876-4bd8-8fd0-e31a10d3718f"
      },
      "source": [
        "ticker.get_info()[\"longBusinessSummary\"]"
      ],
      "execution_count": 3,
      "outputs": [
        {
          "output_type": "execute_result",
          "data": {
            "text/plain": [
              "'The investment seeks to provide investment results that, before expenses, correspond generally to the price and yield performance of the S&P 500Â® Index.\\n The Trust seeks to achieve its investment objective by holding a portfolio of the common stocks that are included in the index (the â\\x80\\x9cPortfolioâ\\x80\\x9d), with the weight of each stock in the Portfolio substantially corresponding to the weight of such stock in the index.'"
            ]
          },
          "metadata": {
            "tags": []
          },
          "execution_count": 3
        }
      ]
    },
    {
      "cell_type": "code",
      "metadata": {
        "id": "1npwy10_MUO9",
        "colab_type": "code",
        "colab": {
          "base_uri": "https://localhost:8080/",
          "height": 272
        },
        "outputId": "7ac5759c-d928-48cf-f884-07a549f5ee14"
      },
      "source": [
        "print(df)"
      ],
      "execution_count": 5,
      "outputs": [
        {
          "output_type": "stream",
          "text": [
            "              Open    High     Low   Close     Volume  Dividends  Stock Splits\n",
            "Date                                                                          \n",
            "2014-12-23  188.64  188.70  187.94  188.26  122167900       0.00             0\n",
            "2014-12-24  188.51  188.80  188.23  188.28   42963400       0.00             0\n",
            "2014-12-26  188.77  189.26  188.71  188.89   57326700       0.00             0\n",
            "2014-12-29  188.69  189.37  188.62  189.14   79643900       0.00             0\n",
            "2014-12-30  188.68  188.82  188.04  188.13   73540800       0.00             0\n",
            "...            ...     ...     ...     ...        ...        ...           ...\n",
            "2019-12-16  317.66  318.58  315.70  317.94   82749700       0.00             0\n",
            "2019-12-17  318.35  318.68  317.92  318.01   61097700       0.00             0\n",
            "2019-12-18  318.43  318.68  317.97  318.03   48133000       0.00             0\n",
            "2019-12-19  318.24  319.41  317.96  319.33   85310500       0.00             0\n",
            "2019-12-20  320.46  321.97  319.39  320.73  147142100       1.57             0\n",
            "\n",
            "[1258 rows x 7 columns]\n"
          ],
          "name": "stdout"
        }
      ]
    },
    {
      "cell_type": "code",
      "metadata": {
        "id": "L695IaUrMi62",
        "colab_type": "code",
        "colab": {}
      },
      "source": [
        "# df to csv converter\n",
        "df.to_csv('SPY.csv', encoding='utf-8')"
      ],
      "execution_count": 0,
      "outputs": []
    },
    {
      "cell_type": "code",
      "metadata": {
        "id": "CS7kq2ncICPJ",
        "colab_type": "code",
        "colab": {
          "base_uri": "https://localhost:8080/",
          "height": 1000
        },
        "outputId": "6a86d290-e55b-4ee0-b73a-0912e87f1b47"
      },
      "source": [
        "# See the extended API Doc\n",
        "print(ticker.history(period='1y', interval='1d').__doc__)"
      ],
      "execution_count": 7,
      "outputs": [
        {
          "output_type": "stream",
          "text": [
            "\n",
            "    Two-dimensional size-mutable, potentially heterogeneous tabular data\n",
            "    structure with labeled axes (rows and columns). Arithmetic operations\n",
            "    align on both row and column labels. Can be thought of as a dict-like\n",
            "    container for Series objects. The primary pandas data structure.\n",
            "\n",
            "    Parameters\n",
            "    ----------\n",
            "    data : ndarray (structured or homogeneous), Iterable, dict, or DataFrame\n",
            "        Dict can contain Series, arrays, constants, or list-like objects\n",
            "\n",
            "        .. versionchanged :: 0.23.0\n",
            "           If data is a dict, column order follows insertion-order for\n",
            "           Python 3.6 and later.\n",
            "\n",
            "        .. versionchanged :: 0.25.0\n",
            "           If data is a list of dicts, column order follows insertion-order\n",
            "           for Python 3.6 and later.\n",
            "\n",
            "    index : Index or array-like\n",
            "        Index to use for resulting frame. Will default to RangeIndex if\n",
            "        no indexing information part of input data and no index provided\n",
            "    columns : Index or array-like\n",
            "        Column labels to use for resulting frame. Will default to\n",
            "        RangeIndex (0, 1, 2, ..., n) if no column labels are provided\n",
            "    dtype : dtype, default None\n",
            "        Data type to force. Only a single dtype is allowed. If None, infer\n",
            "    copy : boolean, default False\n",
            "        Copy data from inputs. Only affects DataFrame / 2d ndarray input\n",
            "\n",
            "    See Also\n",
            "    --------\n",
            "    DataFrame.from_records : Constructor from tuples, also record arrays.\n",
            "    DataFrame.from_dict : From dicts of Series, arrays, or dicts.\n",
            "    DataFrame.from_items : From sequence of (key, value) pairs\n",
            "        read_csv, pandas.read_table, pandas.read_clipboard.\n",
            "\n",
            "    Examples\n",
            "    --------\n",
            "    Constructing DataFrame from a dictionary.\n",
            "\n",
            "    >>> d = {'col1': [1, 2], 'col2': [3, 4]}\n",
            "    >>> df = pd.DataFrame(data=d)\n",
            "    >>> df\n",
            "       col1  col2\n",
            "    0     1     3\n",
            "    1     2     4\n",
            "\n",
            "    Notice that the inferred dtype is int64.\n",
            "\n",
            "    >>> df.dtypes\n",
            "    col1    int64\n",
            "    col2    int64\n",
            "    dtype: object\n",
            "\n",
            "    To enforce a single dtype:\n",
            "\n",
            "    >>> df = pd.DataFrame(data=d, dtype=np.int8)\n",
            "    >>> df.dtypes\n",
            "    col1    int8\n",
            "    col2    int8\n",
            "    dtype: object\n",
            "\n",
            "    Constructing DataFrame from numpy ndarray:\n",
            "\n",
            "    >>> df2 = pd.DataFrame(np.array([[1, 2, 3], [4, 5, 6], [7, 8, 9]]),\n",
            "    ...                    columns=['a', 'b', 'c'])\n",
            "    >>> df2\n",
            "       a  b  c\n",
            "    0  1  2  3\n",
            "    1  4  5  6\n",
            "    2  7  8  9\n",
            "    \n"
          ],
          "name": "stdout"
        }
      ]
    },
    {
      "cell_type": "code",
      "metadata": {
        "id": "PBZCtaSCRFi5",
        "colab_type": "code",
        "colab": {}
      },
      "source": [
        "dfTrain = ticker.history(period='5y', interval='1d', start=None, end='2019-11-20')"
      ],
      "execution_count": 0,
      "outputs": []
    },
    {
      "cell_type": "code",
      "metadata": {
        "id": "OpF1ogn3RsyD",
        "colab_type": "code",
        "colab": {}
      },
      "source": [
        "# Save Training set\n",
        "dfTrain.to_csv('spy_stock_price_train.csv', encoding='utf-8')"
      ],
      "execution_count": 0,
      "outputs": []
    },
    {
      "cell_type": "code",
      "metadata": {
        "id": "v7hdLHLzG_4d",
        "colab_type": "code",
        "colab": {}
      },
      "source": [
        "dfTest = ticker.history(period='5y', interval='1d', start='2019-11-21', end='2019-12-20')"
      ],
      "execution_count": 0,
      "outputs": []
    },
    {
      "cell_type": "code",
      "metadata": {
        "id": "g9PciCxyVO40",
        "colab_type": "code",
        "colab": {}
      },
      "source": [
        "# Save Test set\n",
        "dfTest.to_csv('spy_stock_price_test.csv', encoding='utf-8')"
      ],
      "execution_count": 0,
      "outputs": []
    },
    {
      "cell_type": "markdown",
      "metadata": {
        "id": "_7-r0RwaVwj6",
        "colab_type": "text"
      },
      "source": [
        "## 2. Data Preprocessing"
      ]
    },
    {
      "cell_type": "code",
      "metadata": {
        "id": "vDksJ6O8VzjC",
        "colab_type": "code",
        "colab": {}
      },
      "source": [
        "# import essential libraries\n",
        "import numpy as np\n",
        "import matplotlib.pyplot as plt\n",
        "import pandas as pd\n",
        "\n",
        "# iLoc relevant colums from the training set\n",
        "# Adding .values makes it a numpy array which we need to feed it to Keras\n",
        "training_set = dfTrain.iloc[:,1:2].values"
      ],
      "execution_count": 0,
      "outputs": []
    },
    {
      "cell_type": "code",
      "metadata": {
        "id": "sUMgjsG2ZybQ",
        "colab_type": "code",
        "colab": {}
      },
      "source": [
        "# Feature Scaling\n",
        "from sklearn.preprocessing import MinMaxScaler\n",
        "sc = MinMaxScaler(feature_range = (0,1))\n",
        "training_set_scaled = sc.fit_transform(training_set)"
      ],
      "execution_count": 0,
      "outputs": []
    },
    {
      "cell_type": "code",
      "metadata": {
        "id": "iNTQhyaWhokE",
        "colab_type": "code",
        "colab": {}
      },
      "source": [
        "# Creating a data structure with 60 time steps and 1 output\n",
        "# This is an important dp step in RNN\n",
        "X_train = []\n",
        "y_train = []\n",
        "\n",
        "for i in range(60, training_set_scaled.size):\n",
        "  X_train.append(training_set_scaled[i-60:i, 0])\n",
        "  y_train.append(training_set_scaled[i, 0])\n",
        "\n",
        "X_train, y_train = np.array(X_train), np.array(y_train)\n",
        "\n",
        "# Reshaping the data to input to keras\n",
        "X_train = np.reshape(X_train, (X_train.shape[0], X_train.shape[1], 1))"
      ],
      "execution_count": 0,
      "outputs": []
    },
    {
      "cell_type": "markdown",
      "metadata": {
        "id": "GOZOKe6kZpBq",
        "colab_type": "text"
      },
      "source": [
        "#### Miscelleneous"
      ]
    },
    {
      "cell_type": "code",
      "metadata": {
        "id": "LBpfbABKXb40",
        "colab_type": "code",
        "colab": {
          "base_uri": "https://localhost:8080/",
          "height": 34
        },
        "outputId": "65c81351-ee57-4cff-d6aa-45d82972d638"
      },
      "source": [
        "print(type(dfTrain))"
      ],
      "execution_count": 35,
      "outputs": [
        {
          "output_type": "stream",
          "text": [
            "<class 'pandas.core.frame.DataFrame'>\n"
          ],
          "name": "stdout"
        }
      ]
    },
    {
      "cell_type": "code",
      "metadata": {
        "id": "xvQvt4_3YZej",
        "colab_type": "code",
        "colab": {
          "base_uri": "https://localhost:8080/",
          "height": 102
        },
        "outputId": "da48d009-2a8d-409e-ec58-4fdc8b56bbf2"
      },
      "source": [
        "print(training_set[:][:5])"
      ],
      "execution_count": 33,
      "outputs": [
        {
          "output_type": "stream",
          "text": [
            "[[188.01]\n",
            " [188.7 ]\n",
            " [188.8 ]\n",
            " [189.26]\n",
            " [189.37]]\n"
          ],
          "name": "stdout"
        }
      ]
    },
    {
      "cell_type": "code",
      "metadata": {
        "id": "K5wfxpDshQMi",
        "colab_type": "code",
        "colab": {
          "base_uri": "https://localhost:8080/",
          "height": 136
        },
        "outputId": "2a778baa-faa2-4853-903d-d93ed50432e3"
      },
      "source": [
        "print(training_set_scaled)"
      ],
      "execution_count": 39,
      "outputs": [
        {
          "output_type": "stream",
          "text": [
            "[[0.11694133]\n",
            " [0.12148978]\n",
            " [0.12214898]\n",
            " ...\n",
            " [0.97831246]\n",
            " [0.98312459]\n",
            " [1.        ]]\n"
          ],
          "name": "stdout"
        }
      ]
    },
    {
      "cell_type": "code",
      "metadata": {
        "id": "HP7LlBtUjKLy",
        "colab_type": "code",
        "colab": {
          "base_uri": "https://localhost:8080/",
          "height": 34
        },
        "outputId": "86cf92ee-fd0e-494c-cfc9-458b8fb6326f"
      },
      "source": [
        "training_set_scaled.shape"
      ],
      "execution_count": 42,
      "outputs": [
        {
          "output_type": "execute_result",
          "data": {
            "text/plain": [
              "(1259, 1)"
            ]
          },
          "metadata": {
            "tags": []
          },
          "execution_count": 42
        }
      ]
    },
    {
      "cell_type": "markdown",
      "metadata": {
        "id": "JLqEqGRfV5il",
        "colab_type": "text"
      },
      "source": [
        "## 3. Building the RNN"
      ]
    },
    {
      "cell_type": "code",
      "metadata": {
        "id": "LU04BlH5V8Rf",
        "colab_type": "code",
        "colab": {
          "base_uri": "https://localhost:8080/",
          "height": 80
        },
        "outputId": "469c6849-565d-4c9d-a6aa-f26ade337740"
      },
      "source": [
        "# Import keras libraries and packages\n",
        "from keras.models import Sequential\n",
        "from keras.layers import Dense\n",
        "from keras.layers import LSTM\n",
        "from keras.layers import Dropout"
      ],
      "execution_count": 11,
      "outputs": [
        {
          "output_type": "stream",
          "text": [
            "Using TensorFlow backend.\n"
          ],
          "name": "stderr"
        },
        {
          "output_type": "display_data",
          "data": {
            "text/html": [
              "<p style=\"color: red;\">\n",
              "The default version of TensorFlow in Colab will soon switch to TensorFlow 2.x.<br>\n",
              "We recommend you <a href=\"https://www.tensorflow.org/guide/migrate\" target=\"_blank\">upgrade</a> now \n",
              "or ensure your notebook will continue to use TensorFlow 1.x via the <code>%tensorflow_version 1.x</code> magic:\n",
              "<a href=\"https://colab.research.google.com/notebooks/tensorflow_version.ipynb\" target=\"_blank\">more info</a>.</p>\n"
            ],
            "text/plain": [
              "<IPython.core.display.HTML object>"
            ]
          },
          "metadata": {
            "tags": []
          }
        }
      ]
    },
    {
      "cell_type": "code",
      "metadata": {
        "id": "iDvQu5Vrqmkz",
        "colab_type": "code",
        "colab": {
          "base_uri": "https://localhost:8080/",
          "height": 71
        },
        "outputId": "df399f3e-98be-40dd-82ad-9bec178937dd"
      },
      "source": [
        "# Initialize RNN\n",
        "regressor = Sequential()"
      ],
      "execution_count": 12,
      "outputs": [
        {
          "output_type": "stream",
          "text": [
            "WARNING:tensorflow:From /usr/local/lib/python3.6/dist-packages/keras/backend/tensorflow_backend.py:66: The name tf.get_default_graph is deprecated. Please use tf.compat.v1.get_default_graph instead.\n",
            "\n"
          ],
          "name": "stdout"
        }
      ]
    },
    {
      "cell_type": "code",
      "metadata": {
        "id": "hSj2l-lRrgqu",
        "colab_type": "code",
        "colab": {
          "base_uri": "https://localhost:8080/",
          "height": 190
        },
        "outputId": "d5d3be72-6afc-462c-a0d5-7ffaf02cbcb1"
      },
      "source": [
        "# Adding the first LSTM layer and some Dropout Regularization\n",
        "regressor.add(LSTM(units=50, return_sequences=True, input_shape=(X_train.shape[1], 1)))\n",
        "regressor.add(Dropout(0.2))"
      ],
      "execution_count": 13,
      "outputs": [
        {
          "output_type": "stream",
          "text": [
            "WARNING:tensorflow:From /usr/local/lib/python3.6/dist-packages/keras/backend/tensorflow_backend.py:541: The name tf.placeholder is deprecated. Please use tf.compat.v1.placeholder instead.\n",
            "\n",
            "WARNING:tensorflow:From /usr/local/lib/python3.6/dist-packages/keras/backend/tensorflow_backend.py:4432: The name tf.random_uniform is deprecated. Please use tf.random.uniform instead.\n",
            "\n",
            "WARNING:tensorflow:From /usr/local/lib/python3.6/dist-packages/keras/backend/tensorflow_backend.py:148: The name tf.placeholder_with_default is deprecated. Please use tf.compat.v1.placeholder_with_default instead.\n",
            "\n",
            "WARNING:tensorflow:From /usr/local/lib/python3.6/dist-packages/keras/backend/tensorflow_backend.py:3733: calling dropout (from tensorflow.python.ops.nn_ops) with keep_prob is deprecated and will be removed in a future version.\n",
            "Instructions for updating:\n",
            "Please use `rate` instead of `keep_prob`. Rate should be set to `rate = 1 - keep_prob`.\n"
          ],
          "name": "stdout"
        }
      ]
    },
    {
      "cell_type": "code",
      "metadata": {
        "id": "ALkgRlymubV5",
        "colab_type": "code",
        "colab": {}
      },
      "source": [
        "# Adding the second LSTM layer and some Dropout Regularization\n",
        "regressor.add(LSTM(units=50, return_sequences=True))\n",
        "regressor.add(Dropout(0.2))\n",
        "\n",
        "# Adding the third LSTM layer and some Dropout Regularization\n",
        "regressor.add(LSTM(units=50, return_sequences=True))\n",
        "regressor.add(Dropout(0.2))\n",
        "\n",
        "# Adding the fourth LSTM layer and some Dropout Regularization\n",
        "regressor.add(LSTM(units=50))\n",
        "regressor.add(Dropout(0.2))"
      ],
      "execution_count": 0,
      "outputs": []
    },
    {
      "cell_type": "code",
      "metadata": {
        "id": "a0Xqt08kt2Fm",
        "colab_type": "code",
        "colab": {}
      },
      "source": [
        "# Output layer of RNN\n",
        "regressor.add(Dense(units=1))"
      ],
      "execution_count": 0,
      "outputs": []
    },
    {
      "cell_type": "code",
      "metadata": {
        "id": "mZpXYk7IV0EA",
        "colab_type": "code",
        "colab": {}
      },
      "source": [
        "# Compiling RNN\n",
        "regressor.compile(optimizer='adam', loss = 'mean_squared_error')"
      ],
      "execution_count": 0,
      "outputs": []
    },
    {
      "cell_type": "code",
      "metadata": {
        "id": "ACdhEqABXAcQ",
        "colab_type": "code",
        "colab": {
          "base_uri": "https://localhost:8080/",
          "height": 1000
        },
        "outputId": "a9b94714-96b0-4aac-e9a2-b02880f387d6"
      },
      "source": [
        "#Fitting the RNN to Training set\n",
        "regressor.fit(X_train, y_train, epochs=100, batch_size=32)"
      ],
      "execution_count": 19,
      "outputs": [
        {
          "output_type": "stream",
          "text": [
            "WARNING:tensorflow:From /usr/local/lib/python3.6/dist-packages/tensorflow_core/python/ops/math_grad.py:1424: where (from tensorflow.python.ops.array_ops) is deprecated and will be removed in a future version.\n",
            "Instructions for updating:\n",
            "Use tf.where in 2.0, which has the same broadcast rule as np.where\n",
            "WARNING:tensorflow:From /usr/local/lib/python3.6/dist-packages/keras/backend/tensorflow_backend.py:1033: The name tf.assign_add is deprecated. Please use tf.compat.v1.assign_add instead.\n",
            "\n",
            "WARNING:tensorflow:From /usr/local/lib/python3.6/dist-packages/keras/backend/tensorflow_backend.py:1020: The name tf.assign is deprecated. Please use tf.compat.v1.assign instead.\n",
            "\n",
            "WARNING:tensorflow:From /usr/local/lib/python3.6/dist-packages/keras/backend/tensorflow_backend.py:3005: The name tf.Session is deprecated. Please use tf.compat.v1.Session instead.\n",
            "\n",
            "Epoch 1/100\n",
            "WARNING:tensorflow:From /usr/local/lib/python3.6/dist-packages/keras/backend/tensorflow_backend.py:190: The name tf.get_default_session is deprecated. Please use tf.compat.v1.get_default_session instead.\n",
            "\n",
            "WARNING:tensorflow:From /usr/local/lib/python3.6/dist-packages/keras/backend/tensorflow_backend.py:197: The name tf.ConfigProto is deprecated. Please use tf.compat.v1.ConfigProto instead.\n",
            "\n",
            "WARNING:tensorflow:From /usr/local/lib/python3.6/dist-packages/keras/backend/tensorflow_backend.py:207: The name tf.global_variables is deprecated. Please use tf.compat.v1.global_variables instead.\n",
            "\n",
            "WARNING:tensorflow:From /usr/local/lib/python3.6/dist-packages/keras/backend/tensorflow_backend.py:216: The name tf.is_variable_initialized is deprecated. Please use tf.compat.v1.is_variable_initialized instead.\n",
            "\n",
            "WARNING:tensorflow:From /usr/local/lib/python3.6/dist-packages/keras/backend/tensorflow_backend.py:223: The name tf.variables_initializer is deprecated. Please use tf.compat.v1.variables_initializer instead.\n",
            "\n",
            "1198/1198 [==============================] - 23s 20ms/step - loss: 0.0365\n",
            "Epoch 2/100\n",
            "1198/1198 [==============================] - 12s 10ms/step - loss: 0.0051\n",
            "Epoch 3/100\n",
            "1198/1198 [==============================] - 12s 10ms/step - loss: 0.0044\n",
            "Epoch 4/100\n",
            "1198/1198 [==============================] - 12s 10ms/step - loss: 0.0044\n",
            "Epoch 5/100\n",
            "1198/1198 [==============================] - 12s 10ms/step - loss: 0.0038\n",
            "Epoch 6/100\n",
            "1198/1198 [==============================] - 12s 10ms/step - loss: 0.0038\n",
            "Epoch 7/100\n",
            "1198/1198 [==============================] - 12s 10ms/step - loss: 0.0035\n",
            "Epoch 8/100\n",
            "1198/1198 [==============================] - 12s 10ms/step - loss: 0.0036\n",
            "Epoch 9/100\n",
            "1198/1198 [==============================] - 12s 10ms/step - loss: 0.0032\n",
            "Epoch 10/100\n",
            "1198/1198 [==============================] - 12s 10ms/step - loss: 0.0029\n",
            "Epoch 11/100\n",
            "1198/1198 [==============================] - 12s 10ms/step - loss: 0.0032\n",
            "Epoch 12/100\n",
            "1198/1198 [==============================] - 12s 10ms/step - loss: 0.0033\n",
            "Epoch 13/100\n",
            "1198/1198 [==============================] - 12s 10ms/step - loss: 0.0025\n",
            "Epoch 14/100\n",
            "1198/1198 [==============================] - 12s 10ms/step - loss: 0.0027\n",
            "Epoch 15/100\n",
            "1198/1198 [==============================] - 12s 10ms/step - loss: 0.0030\n",
            "Epoch 16/100\n",
            "1198/1198 [==============================] - 12s 10ms/step - loss: 0.0029\n",
            "Epoch 17/100\n",
            "1198/1198 [==============================] - 12s 10ms/step - loss: 0.0026\n",
            "Epoch 18/100\n",
            "1198/1198 [==============================] - 12s 10ms/step - loss: 0.0025\n",
            "Epoch 19/100\n",
            "1198/1198 [==============================] - 12s 10ms/step - loss: 0.0023\n",
            "Epoch 20/100\n",
            "1198/1198 [==============================] - 12s 10ms/step - loss: 0.0026\n",
            "Epoch 21/100\n",
            "1198/1198 [==============================] - 12s 10ms/step - loss: 0.0024\n",
            "Epoch 22/100\n",
            "1198/1198 [==============================] - 12s 10ms/step - loss: 0.0021\n",
            "Epoch 23/100\n",
            "1198/1198 [==============================] - 12s 10ms/step - loss: 0.0023\n",
            "Epoch 24/100\n",
            "1198/1198 [==============================] - 12s 10ms/step - loss: 0.0023\n",
            "Epoch 25/100\n",
            "1198/1198 [==============================] - 12s 10ms/step - loss: 0.0023\n",
            "Epoch 26/100\n",
            "1198/1198 [==============================] - 12s 10ms/step - loss: 0.0019\n",
            "Epoch 27/100\n",
            "1198/1198 [==============================] - 12s 10ms/step - loss: 0.0019\n",
            "Epoch 28/100\n",
            "1198/1198 [==============================] - 12s 10ms/step - loss: 0.0018\n",
            "Epoch 29/100\n",
            "1198/1198 [==============================] - 12s 10ms/step - loss: 0.0018\n",
            "Epoch 30/100\n",
            "1198/1198 [==============================] - 12s 10ms/step - loss: 0.0019\n",
            "Epoch 31/100\n",
            "1198/1198 [==============================] - 12s 10ms/step - loss: 0.0021\n",
            "Epoch 32/100\n",
            "1198/1198 [==============================] - 12s 10ms/step - loss: 0.0020\n",
            "Epoch 33/100\n",
            "1198/1198 [==============================] - 12s 10ms/step - loss: 0.0022\n",
            "Epoch 34/100\n",
            "1198/1198 [==============================] - 12s 10ms/step - loss: 0.0018\n",
            "Epoch 35/100\n",
            "1198/1198 [==============================] - 12s 10ms/step - loss: 0.0018\n",
            "Epoch 36/100\n",
            "1198/1198 [==============================] - 12s 10ms/step - loss: 0.0018\n",
            "Epoch 37/100\n",
            "1198/1198 [==============================] - 12s 10ms/step - loss: 0.0021\n",
            "Epoch 38/100\n",
            "1198/1198 [==============================] - 12s 10ms/step - loss: 0.0017\n",
            "Epoch 39/100\n",
            "1198/1198 [==============================] - 12s 10ms/step - loss: 0.0017\n",
            "Epoch 40/100\n",
            "1198/1198 [==============================] - 12s 10ms/step - loss: 0.0018\n",
            "Epoch 41/100\n",
            "1198/1198 [==============================] - 12s 10ms/step - loss: 0.0017\n",
            "Epoch 42/100\n",
            "1198/1198 [==============================] - 12s 10ms/step - loss: 0.0020\n",
            "Epoch 43/100\n",
            "1198/1198 [==============================] - 12s 10ms/step - loss: 0.0016\n",
            "Epoch 44/100\n",
            "1198/1198 [==============================] - 12s 10ms/step - loss: 0.0014\n",
            "Epoch 45/100\n",
            "1198/1198 [==============================] - 12s 10ms/step - loss: 0.0014\n",
            "Epoch 46/100\n",
            "1198/1198 [==============================] - 12s 10ms/step - loss: 0.0014\n",
            "Epoch 47/100\n",
            "1198/1198 [==============================] - 12s 10ms/step - loss: 0.0013\n",
            "Epoch 48/100\n",
            "1198/1198 [==============================] - 12s 10ms/step - loss: 0.0014\n",
            "Epoch 49/100\n",
            "1198/1198 [==============================] - 12s 10ms/step - loss: 0.0013\n",
            "Epoch 50/100\n",
            "1198/1198 [==============================] - 12s 10ms/step - loss: 0.0014\n",
            "Epoch 51/100\n",
            "1198/1198 [==============================] - 12s 10ms/step - loss: 0.0014\n",
            "Epoch 52/100\n",
            "1198/1198 [==============================] - 12s 10ms/step - loss: 0.0014\n",
            "Epoch 53/100\n",
            "1198/1198 [==============================] - 12s 10ms/step - loss: 0.0013\n",
            "Epoch 54/100\n",
            "1198/1198 [==============================] - 12s 10ms/step - loss: 0.0014\n",
            "Epoch 55/100\n",
            "1198/1198 [==============================] - 12s 10ms/step - loss: 0.0015\n",
            "Epoch 56/100\n",
            "1198/1198 [==============================] - 12s 10ms/step - loss: 0.0013\n",
            "Epoch 57/100\n",
            "1198/1198 [==============================] - 12s 10ms/step - loss: 0.0012\n",
            "Epoch 58/100\n",
            "1198/1198 [==============================] - 12s 10ms/step - loss: 0.0014\n",
            "Epoch 59/100\n",
            "1198/1198 [==============================] - 12s 10ms/step - loss: 0.0014\n",
            "Epoch 60/100\n",
            "1198/1198 [==============================] - 12s 10ms/step - loss: 0.0013\n",
            "Epoch 61/100\n",
            "1198/1198 [==============================] - 12s 10ms/step - loss: 0.0012\n",
            "Epoch 62/100\n",
            "1198/1198 [==============================] - 12s 10ms/step - loss: 0.0013\n",
            "Epoch 63/100\n",
            "1198/1198 [==============================] - 12s 10ms/step - loss: 0.0012\n",
            "Epoch 64/100\n",
            "1198/1198 [==============================] - 12s 10ms/step - loss: 0.0012\n",
            "Epoch 65/100\n",
            "1198/1198 [==============================] - 12s 10ms/step - loss: 0.0013\n",
            "Epoch 66/100\n",
            "1198/1198 [==============================] - 12s 10ms/step - loss: 0.0012\n",
            "Epoch 67/100\n",
            "1198/1198 [==============================] - 12s 10ms/step - loss: 0.0013\n",
            "Epoch 68/100\n",
            "1198/1198 [==============================] - 12s 10ms/step - loss: 0.0012\n",
            "Epoch 69/100\n",
            "1198/1198 [==============================] - 12s 10ms/step - loss: 0.0012\n",
            "Epoch 70/100\n",
            "1198/1198 [==============================] - 12s 10ms/step - loss: 0.0012\n",
            "Epoch 71/100\n",
            "1198/1198 [==============================] - 12s 10ms/step - loss: 0.0012\n",
            "Epoch 72/100\n",
            "1198/1198 [==============================] - 12s 10ms/step - loss: 0.0012\n",
            "Epoch 73/100\n",
            "1198/1198 [==============================] - 12s 10ms/step - loss: 0.0011\n",
            "Epoch 74/100\n",
            "1198/1198 [==============================] - 12s 10ms/step - loss: 0.0011\n",
            "Epoch 75/100\n",
            "1198/1198 [==============================] - 12s 10ms/step - loss: 0.0010\n",
            "Epoch 76/100\n",
            "1198/1198 [==============================] - 12s 10ms/step - loss: 0.0011\n",
            "Epoch 77/100\n",
            "1198/1198 [==============================] - 12s 10ms/step - loss: 9.7654e-04\n",
            "Epoch 78/100\n",
            "1198/1198 [==============================] - 12s 10ms/step - loss: 9.9358e-04\n",
            "Epoch 79/100\n",
            "1198/1198 [==============================] - 12s 10ms/step - loss: 0.0011\n",
            "Epoch 80/100\n",
            "1198/1198 [==============================] - 12s 10ms/step - loss: 0.0011\n",
            "Epoch 81/100\n",
            "1198/1198 [==============================] - 12s 10ms/step - loss: 0.0010\n",
            "Epoch 82/100\n",
            "1198/1198 [==============================] - 12s 10ms/step - loss: 0.0011\n",
            "Epoch 83/100\n",
            "1198/1198 [==============================] - 12s 10ms/step - loss: 0.0011\n",
            "Epoch 84/100\n",
            "1198/1198 [==============================] - 12s 10ms/step - loss: 0.0011\n",
            "Epoch 85/100\n",
            "1198/1198 [==============================] - 12s 10ms/step - loss: 0.0010\n",
            "Epoch 86/100\n",
            "1198/1198 [==============================] - 12s 10ms/step - loss: 9.8865e-04\n",
            "Epoch 87/100\n",
            "1198/1198 [==============================] - 12s 10ms/step - loss: 0.0012\n",
            "Epoch 88/100\n",
            "1198/1198 [==============================] - 12s 10ms/step - loss: 0.0010\n",
            "Epoch 89/100\n",
            "1198/1198 [==============================] - 12s 10ms/step - loss: 0.0010\n",
            "Epoch 90/100\n",
            "1198/1198 [==============================] - 12s 10ms/step - loss: 0.0011\n",
            "Epoch 91/100\n",
            "1198/1198 [==============================] - 12s 10ms/step - loss: 9.8711e-04\n",
            "Epoch 92/100\n",
            "1198/1198 [==============================] - 12s 10ms/step - loss: 0.0011\n",
            "Epoch 93/100\n",
            "1198/1198 [==============================] - 12s 10ms/step - loss: 9.4353e-04\n",
            "Epoch 94/100\n",
            "1198/1198 [==============================] - 12s 10ms/step - loss: 0.0010\n",
            "Epoch 95/100\n",
            "1198/1198 [==============================] - 12s 10ms/step - loss: 9.9958e-04\n",
            "Epoch 96/100\n",
            "1198/1198 [==============================] - 12s 10ms/step - loss: 0.0011\n",
            "Epoch 97/100\n",
            "1198/1198 [==============================] - 12s 10ms/step - loss: 9.6412e-04\n",
            "Epoch 98/100\n",
            "1198/1198 [==============================] - 12s 10ms/step - loss: 9.6776e-04\n",
            "Epoch 99/100\n",
            "1198/1198 [==============================] - 12s 10ms/step - loss: 9.4443e-04\n",
            "Epoch 100/100\n",
            "1198/1198 [==============================] - 12s 10ms/step - loss: 0.0011\n"
          ],
          "name": "stdout"
        },
        {
          "output_type": "execute_result",
          "data": {
            "text/plain": [
              "<keras.callbacks.History at 0x7f758d286630>"
            ]
          },
          "metadata": {
            "tags": []
          },
          "execution_count": 19
        }
      ]
    },
    {
      "cell_type": "markdown",
      "metadata": {
        "id": "WLCpxDrpV8w6",
        "colab_type": "text"
      },
      "source": [
        "## 4. Making the predictions and visualizing the results"
      ]
    },
    {
      "cell_type": "code",
      "metadata": {
        "id": "wiACXpdNWEoq",
        "colab_type": "code",
        "colab": {}
      },
      "source": [
        "# Getting the real stock price of Dec 2019\n",
        "real_stock_price = dfTest.iloc[:,1:2].values"
      ],
      "execution_count": 0,
      "outputs": []
    },
    {
      "cell_type": "code",
      "metadata": {
        "id": "dL43qko5YVYb",
        "colab_type": "code",
        "colab": {}
      },
      "source": [
        "# Getting the predicted stock price of Dec 2019\n",
        "dataset_total = pd.concat((dfTrain['Open'], dfTest['Open']), axis=0)"
      ],
      "execution_count": 0,
      "outputs": []
    },
    {
      "cell_type": "code",
      "metadata": {
        "id": "7HHamuKAYc4p",
        "colab_type": "code",
        "colab": {}
      },
      "source": [
        "# Visulazing the results\n",
        "inputs = dataset_total[len(dataset_total) - len(dfTest) - 60 : ].values "
      ],
      "execution_count": 0,
      "outputs": []
    },
    {
      "cell_type": "code",
      "metadata": {
        "id": "T6P56HP1eBzj",
        "colab_type": "code",
        "colab": {}
      },
      "source": [
        "inputs = inputs.reshape(-1,1)\n",
        "inputs = sc.transform(inputs)"
      ],
      "execution_count": 0,
      "outputs": []
    },
    {
      "cell_type": "code",
      "metadata": {
        "id": "nKtRrAtWesPK",
        "colab_type": "code",
        "colab": {}
      },
      "source": [
        "X_test = []\n",
        "\n",
        "for i in range(60, 80):\n",
        "  X_test.append(inputs[i-60:i, 0])\n",
        "\n",
        "X_test = np.array(X_test)\n",
        "\n",
        "# Reshaping the data to input to keras\n",
        "X_test = np.reshape(X_test, (X_test.shape[0], X_test.shape[1], 1))"
      ],
      "execution_count": 0,
      "outputs": []
    },
    {
      "cell_type": "code",
      "metadata": {
        "id": "krRzYr6mfuiY",
        "colab_type": "code",
        "colab": {}
      },
      "source": [
        "predicted_stock_price = regressor.predict(X_test)\n",
        "predicted_stock_price = sc.inverse_transform(predicted_stock_price)"
      ],
      "execution_count": 0,
      "outputs": []
    },
    {
      "cell_type": "code",
      "metadata": {
        "id": "gXn8jzCakBvG",
        "colab_type": "code",
        "colab": {
          "base_uri": "https://localhost:8080/",
          "height": 295
        },
        "outputId": "5facf01c-31c5-4978-f9a2-bbb1de4a252e"
      },
      "source": [
        "plt.plot(real_stock_price, color = 'red', label = 'Real Stock Price')\n",
        "plt.plot(predicted_stock_price, color = 'green', label = 'Predicted Stock Price')\n",
        "\n",
        "plt.title('SPY stock price prediction')\n",
        "plt.xlabel('Time')\n",
        "plt.ylabel('SPY Stock Price')\n",
        "plt.legend()\n",
        "plt.show()"
      ],
      "execution_count": 35,
      "outputs": [
        {
          "output_type": "display_data",
          "data": {
            "image/png": "[encoded data removed]",
            "text/plain": [
              "<Figure size 432x288 with 1 Axes>"
            ]
          },
          "metadata": {
            "tags": []
          }
        }
      ]
    }
  ]
}