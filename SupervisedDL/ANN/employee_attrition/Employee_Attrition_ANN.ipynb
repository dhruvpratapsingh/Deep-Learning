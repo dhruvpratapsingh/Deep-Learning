{
  "nbformat": 4,
  "nbformat_minor": 0,
  "metadata": {
    "colab": {
      "name": "Employee_Attrition_ANN.ipynb",
      "version": "0.3.2",
      "provenance": [],
      "collapsed_sections": [],
      "toc_visible": true
    },
    "kernelspec": {
      "name": "python3",
      "display_name": "Python 3"
    }
  },
  "cells": [
    {
      "metadata": {
        "id": "NSjYkwiXMYWV",
        "colab_type": "text"
      },
      "cell_type": "markdown",
      "source": [
        "#Employee Attrition using Artificial Neural Networks\n",
        "\n",
        "### Table of Contents\n",
        "1.   Data Preprocessing\n",
        "2.   Create ANN\n",
        "3.   Make predictions\n",
        "4.   Evaluate - Improve - Tune ANN\n",
        "\n",
        "\n",
        "## Part 1: Data Preprocessing\n"
      ]
    },
    {
      "metadata": {
        "id": "9fBpSsuzIPBh",
        "colab_type": "code",
        "outputId": "f2a0ca6f-c4d6-4294-970e-7ce5d144794c",
        "colab": {
          "base_uri": "https://localhost:8080/",
          "height": 326
        }
      },
      "cell_type": "code",
      "source": [
        "# Import the libraries\n",
        "import numpy as np\n",
        "import matplotlib.pyplot as plt\n",
        "import pandas as pd\n",
        "\n",
        "# Get data from Github and copy that in the cache\n",
        "!wget https://raw.githubusercontent.com/dhruvpratapsingh/Deep-Learning/master/SupervisedDL/ANN/employee_attrition/Employee-Attrition.csv ./\n",
        "\n",
        "# Importing the dataset\n",
        "dataset = pd.read_csv('Employee-Attrition.csv')"
      ],
      "execution_count": 0,
      "outputs": [
        {
          "output_type": "stream",
          "text": [
            "--2018-12-31 03:57:33--  https://raw.githubusercontent.com/dhruvpratapsingh/Deep-Learning/master/SupervisedDL/ANN/employee_attrition/Employee-Attrition.csv\n",
            "Resolving raw.githubusercontent.com (raw.githubusercontent.com)... 151.101.0.133, 151.101.64.133, 151.101.128.133, ...\n",
            "Connecting to raw.githubusercontent.com (raw.githubusercontent.com)|151.101.0.133|:443... connected.\n",
            "HTTP request sent, awaiting response... 200 OK\n",
            "Length: 227977 (223K) [text/plain]\n",
            "Saving to: ‘Employee-Attrition.csv’\n",
            "\n",
            "\rEmployee-Attrition.   0%[                    ]       0  --.-KB/s               \rEmployee-Attrition. 100%[===================>] 222.63K  --.-KB/s    in 0.05s   \n",
            "\n",
            "2018-12-31 03:57:33 (4.07 MB/s) - ‘Employee-Attrition.csv’ saved [227977/227977]\n",
            "\n",
            "--2018-12-31 03:57:33--  http://./\n",
            "Resolving . (.)... failed: No address associated with hostname.\n",
            "wget: unable to resolve host address ‘.’\n",
            "FINISHED --2018-12-31 03:57:33--\n",
            "Total wall clock time: 0.2s\n",
            "Downloaded: 1 files, 223K in 0.05s (4.07 MB/s)\n"
          ],
          "name": "stdout"
        }
      ]
    },
    {
      "metadata": {
        "id": "-Ud3iv1cQ2Yo",
        "colab_type": "text"
      },
      "cell_type": "markdown",
      "source": [
        "### Intuition for Cleaning the data\n",
        "\n",
        "*1. Remove a column with same value for all the rows*\n",
        "        **StandardHours**\n",
        "        **Over18**\n",
        "        \n",
        "*2. Remove the columns with PII(Personally identifiable information)*\n",
        "        **EmployeeID**\n",
        "        \n",
        "*3. Move y to start or the end column, to make things easier to slice (Optional)*\n"
      ]
    },
    {
      "metadata": {
        "id": "kTA9CtyOOzwe",
        "colab_type": "code",
        "colab": {}
      },
      "cell_type": "code",
      "source": [
        "#removing standard hours, Over18 and employeeID + attrition as first row\n",
        "dataset = dataset[['Attrition',\n",
        "                   'Age',\n",
        "                   'BusinessTravel',\n",
        "                   'DailyRate',\n",
        "                   'Department',\n",
        "                   'DistanceFromHome',\n",
        "                   'Education',\n",
        "                   'EducationField',\n",
        "                   'EmployeeCount',\n",
        "                   'EnvironmentSatisfaction',\n",
        "                   'Gender',\n",
        "                   'HourlyRate',\n",
        "                   'JobInvolvement',\n",
        "                   'JobLevel',\n",
        "                   'JobRole',\n",
        "                   'JobSatisfaction',\n",
        "                   'MaritalStatus',\n",
        "                   'MonthlyIncome',\n",
        "                   'MonthlyRate',\n",
        "                   'NumCompaniesWorked',\n",
        "                   'OverTime',\n",
        "                   'PercentSalaryHike',\n",
        "                   'PerformanceRating',\n",
        "                   'RelationshipSatisfaction',\n",
        "                   'StockOptionLevel',\n",
        "                   'TotalWorkingYears',\n",
        "                   'TrainingTimesLastYear',\n",
        "                   'WorkLifeBalance',\n",
        "                   'YearsAtCompany',\n",
        "                   'YearsInCurrentRole',\n",
        "                   'YearsSinceLastPromotion',\n",
        "                   'YearsWithCurrManager']]"
      ],
      "execution_count": 0,
      "outputs": []
    },
    {
      "metadata": {
        "id": "gMkoVuOAOfSR",
        "colab_type": "code",
        "colab": {}
      },
      "cell_type": "code",
      "source": [
        "# Remember that in python index slicing we include the start index and exclude\n",
        "#     the end index.\n",
        "# Use first index i.e. 0 as y (dependent variable) and 1-32 as X \n",
        "#     (independent variables)\n",
        "\n",
        "X = dataset.iloc[:, 1:].values\n",
        "y = dataset.iloc[:, 0].values\n",
        "\n",
        "# SOME TRICKS\n",
        "# 'print(y)' or to see the y vector.\n",
        "# 'X.shape' to see the shape of the matrix.\n",
        "# We use Uppercase X as it is a matrix and lowercase y as it is a vector"
      ],
      "execution_count": 0,
      "outputs": []
    },
    {
      "metadata": {
        "id": "u8HUOAV7ekK_",
        "colab_type": "text"
      },
      "cell_type": "markdown",
      "source": [
        "### Encoding categorical data\n",
        "As the algorithms work best with numbers.\n",
        "\n",
        "#### Set the display max columns to see all columns.\n",
        " Columns that need to encoded:\n",
        "1. Attrition y[0]\n",
        "2. BusinessTravel X[1]\n",
        "3. Department X[3]\n",
        "4. EducationField X[6]\n",
        "5. Gender X[9]\n",
        "6. JobRole X[13]\n",
        "7. MaritalStatus X[15]\n",
        "8. OverTime X[19]\n",
        "\n",
        "\n",
        "\n"
      ]
    },
    {
      "metadata": {
        "id": "_0nnCi5vTfl6",
        "colab_type": "code",
        "outputId": "9a95381b-b461-49bf-8e02-4efe16e6b162",
        "colab": {
          "base_uri": "https://localhost:8080/",
          "height": 309
        }
      },
      "cell_type": "code",
      "source": [
        "pd.set_option('display.max_columns', 50)\n",
        "dataset.head()"
      ],
      "execution_count": 0,
      "outputs": [
        {
          "output_type": "execute_result",
          "data": {
            "text/html": [
              "<div>\n",
              "<style scoped>\n",
              "    .dataframe tbody tr th:only-of-type {\n",
              "        vertical-align: middle;\n",
              "    }\n",
              "\n",
              "    .dataframe tbody tr th {\n",
              "        vertical-align: top;\n",
              "    }\n",
              "\n",
              "    .dataframe thead th {\n",
              "        text-align: right;\n",
              "    }\n",
              "</style>\n",
              "<table border=\"1\" class=\"dataframe\">\n",
              "  <thead>\n",
              "    <tr style=\"text-align: right;\">\n",
              "      <th></th>\n",
              "      <th>Attrition</th>\n",
              "      <th>Age</th>\n",
              "      <th>BusinessTravel</th>\n",
              "      <th>DailyRate</th>\n",
              "      <th>Department</th>\n",
              "      <th>DistanceFromHome</th>\n",
              "      <th>Education</th>\n",
              "      <th>EducationField</th>\n",
              "      <th>EmployeeCount</th>\n",
              "      <th>EnvironmentSatisfaction</th>\n",
              "      <th>Gender</th>\n",
              "      <th>HourlyRate</th>\n",
              "      <th>JobInvolvement</th>\n",
              "      <th>JobLevel</th>\n",
              "      <th>JobRole</th>\n",
              "      <th>JobSatisfaction</th>\n",
              "      <th>MaritalStatus</th>\n",
              "      <th>MonthlyIncome</th>\n",
              "      <th>MonthlyRate</th>\n",
              "      <th>NumCompaniesWorked</th>\n",
              "      <th>OverTime</th>\n",
              "      <th>PercentSalaryHike</th>\n",
              "      <th>PerformanceRating</th>\n",
              "      <th>RelationshipSatisfaction</th>\n",
              "      <th>StockOptionLevel</th>\n",
              "      <th>TotalWorkingYears</th>\n",
              "      <th>TrainingTimesLastYear</th>\n",
              "      <th>WorkLifeBalance</th>\n",
              "      <th>YearsAtCompany</th>\n",
              "      <th>YearsInCurrentRole</th>\n",
              "      <th>YearsSinceLastPromotion</th>\n",
              "      <th>YearsWithCurrManager</th>\n",
              "    </tr>\n",
              "  </thead>\n",
              "  <tbody>\n",
              "    <tr>\n",
              "      <th>0</th>\n",
              "      <td>Yes</td>\n",
              "      <td>41</td>\n",
              "      <td>Travel_Rarely</td>\n",
              "      <td>1102</td>\n",
              "      <td>Sales</td>\n",
              "      <td>1</td>\n",
              "      <td>2</td>\n",
              "      <td>Life Sciences</td>\n",
              "      <td>1</td>\n",
              "      <td>2</td>\n",
              "      <td>Female</td>\n",
              "      <td>94</td>\n",
              "      <td>3</td>\n",
              "      <td>2</td>\n",
              "      <td>Sales Executive</td>\n",
              "      <td>4</td>\n",
              "      <td>Single</td>\n",
              "      <td>5993</td>\n",
              "      <td>19479</td>\n",
              "      <td>8</td>\n",
              "      <td>Yes</td>\n",
              "      <td>11</td>\n",
              "      <td>3</td>\n",
              "      <td>1</td>\n",
              "      <td>0</td>\n",
              "      <td>8</td>\n",
              "      <td>0</td>\n",
              "      <td>1</td>\n",
              "      <td>6</td>\n",
              "      <td>4</td>\n",
              "      <td>0</td>\n",
              "      <td>5</td>\n",
              "    </tr>\n",
              "    <tr>\n",
              "      <th>1</th>\n",
              "      <td>No</td>\n",
              "      <td>49</td>\n",
              "      <td>Travel_Frequently</td>\n",
              "      <td>279</td>\n",
              "      <td>Research &amp; Development</td>\n",
              "      <td>8</td>\n",
              "      <td>1</td>\n",
              "      <td>Life Sciences</td>\n",
              "      <td>1</td>\n",
              "      <td>3</td>\n",
              "      <td>Male</td>\n",
              "      <td>61</td>\n",
              "      <td>2</td>\n",
              "      <td>2</td>\n",
              "      <td>Research Scientist</td>\n",
              "      <td>2</td>\n",
              "      <td>Married</td>\n",
              "      <td>5130</td>\n",
              "      <td>24907</td>\n",
              "      <td>1</td>\n",
              "      <td>No</td>\n",
              "      <td>23</td>\n",
              "      <td>4</td>\n",
              "      <td>4</td>\n",
              "      <td>1</td>\n",
              "      <td>10</td>\n",
              "      <td>3</td>\n",
              "      <td>3</td>\n",
              "      <td>10</td>\n",
              "      <td>7</td>\n",
              "      <td>1</td>\n",
              "      <td>7</td>\n",
              "    </tr>\n",
              "    <tr>\n",
              "      <th>2</th>\n",
              "      <td>Yes</td>\n",
              "      <td>37</td>\n",
              "      <td>Travel_Rarely</td>\n",
              "      <td>1373</td>\n",
              "      <td>Research &amp; Development</td>\n",
              "      <td>2</td>\n",
              "      <td>2</td>\n",
              "      <td>Other</td>\n",
              "      <td>1</td>\n",
              "      <td>4</td>\n",
              "      <td>Male</td>\n",
              "      <td>92</td>\n",
              "      <td>2</td>\n",
              "      <td>1</td>\n",
              "      <td>Laboratory Technician</td>\n",
              "      <td>3</td>\n",
              "      <td>Single</td>\n",
              "      <td>2090</td>\n",
              "      <td>2396</td>\n",
              "      <td>6</td>\n",
              "      <td>Yes</td>\n",
              "      <td>15</td>\n",
              "      <td>3</td>\n",
              "      <td>2</td>\n",
              "      <td>0</td>\n",
              "      <td>7</td>\n",
              "      <td>3</td>\n",
              "      <td>3</td>\n",
              "      <td>0</td>\n",
              "      <td>0</td>\n",
              "      <td>0</td>\n",
              "      <td>0</td>\n",
              "    </tr>\n",
              "    <tr>\n",
              "      <th>3</th>\n",
              "      <td>No</td>\n",
              "      <td>33</td>\n",
              "      <td>Travel_Frequently</td>\n",
              "      <td>1392</td>\n",
              "      <td>Research &amp; Development</td>\n",
              "      <td>3</td>\n",
              "      <td>4</td>\n",
              "      <td>Life Sciences</td>\n",
              "      <td>1</td>\n",
              "      <td>4</td>\n",
              "      <td>Female</td>\n",
              "      <td>56</td>\n",
              "      <td>3</td>\n",
              "      <td>1</td>\n",
              "      <td>Research Scientist</td>\n",
              "      <td>3</td>\n",
              "      <td>Married</td>\n",
              "      <td>2909</td>\n",
              "      <td>23159</td>\n",
              "      <td>1</td>\n",
              "      <td>Yes</td>\n",
              "      <td>11</td>\n",
              "      <td>3</td>\n",
              "      <td>3</td>\n",
              "      <td>0</td>\n",
              "      <td>8</td>\n",
              "      <td>3</td>\n",
              "      <td>3</td>\n",
              "      <td>8</td>\n",
              "      <td>7</td>\n",
              "      <td>3</td>\n",
              "      <td>0</td>\n",
              "    </tr>\n",
              "    <tr>\n",
              "      <th>4</th>\n",
              "      <td>No</td>\n",
              "      <td>27</td>\n",
              "      <td>Travel_Rarely</td>\n",
              "      <td>591</td>\n",
              "      <td>Research &amp; Development</td>\n",
              "      <td>2</td>\n",
              "      <td>1</td>\n",
              "      <td>Medical</td>\n",
              "      <td>1</td>\n",
              "      <td>1</td>\n",
              "      <td>Male</td>\n",
              "      <td>40</td>\n",
              "      <td>3</td>\n",
              "      <td>1</td>\n",
              "      <td>Laboratory Technician</td>\n",
              "      <td>2</td>\n",
              "      <td>Married</td>\n",
              "      <td>3468</td>\n",
              "      <td>16632</td>\n",
              "      <td>9</td>\n",
              "      <td>No</td>\n",
              "      <td>12</td>\n",
              "      <td>3</td>\n",
              "      <td>4</td>\n",
              "      <td>1</td>\n",
              "      <td>6</td>\n",
              "      <td>3</td>\n",
              "      <td>3</td>\n",
              "      <td>2</td>\n",
              "      <td>2</td>\n",
              "      <td>2</td>\n",
              "      <td>2</td>\n",
              "    </tr>\n",
              "  </tbody>\n",
              "</table>\n",
              "</div>"
            ],
            "text/plain": [
              "  Attrition  Age     BusinessTravel  DailyRate              Department  \\\n",
              "0       Yes   41      Travel_Rarely       1102                   Sales   \n",
              "1        No   49  Travel_Frequently        279  Research & Development   \n",
              "2       Yes   37      Travel_Rarely       1373  Research & Development   \n",
              "3        No   33  Travel_Frequently       1392  Research & Development   \n",
              "4        No   27      Travel_Rarely        591  Research & Development   \n",
              "\n",
              "   DistanceFromHome  Education EducationField  EmployeeCount  \\\n",
              "0                 1          2  Life Sciences              1   \n",
              "1                 8          1  Life Sciences              1   \n",
              "2                 2          2          Other              1   \n",
              "3                 3          4  Life Sciences              1   \n",
              "4                 2          1        Medical              1   \n",
              "\n",
              "   EnvironmentSatisfaction  Gender  HourlyRate  JobInvolvement  JobLevel  \\\n",
              "0                        2  Female          94               3         2   \n",
              "1                        3    Male          61               2         2   \n",
              "2                        4    Male          92               2         1   \n",
              "3                        4  Female          56               3         1   \n",
              "4                        1    Male          40               3         1   \n",
              "\n",
              "                 JobRole  JobSatisfaction MaritalStatus  MonthlyIncome  \\\n",
              "0        Sales Executive                4        Single           5993   \n",
              "1     Research Scientist                2       Married           5130   \n",
              "2  Laboratory Technician                3        Single           2090   \n",
              "3     Research Scientist                3       Married           2909   \n",
              "4  Laboratory Technician                2       Married           3468   \n",
              "\n",
              "   MonthlyRate  NumCompaniesWorked OverTime  PercentSalaryHike  \\\n",
              "0        19479                   8      Yes                 11   \n",
              "1        24907                   1       No                 23   \n",
              "2         2396                   6      Yes                 15   \n",
              "3        23159                   1      Yes                 11   \n",
              "4        16632                   9       No                 12   \n",
              "\n",
              "   PerformanceRating  RelationshipSatisfaction  StockOptionLevel  \\\n",
              "0                  3                         1                 0   \n",
              "1                  4                         4                 1   \n",
              "2                  3                         2                 0   \n",
              "3                  3                         3                 0   \n",
              "4                  3                         4                 1   \n",
              "\n",
              "   TotalWorkingYears  TrainingTimesLastYear  WorkLifeBalance  YearsAtCompany  \\\n",
              "0                  8                      0                1               6   \n",
              "1                 10                      3                3              10   \n",
              "2                  7                      3                3               0   \n",
              "3                  8                      3                3               8   \n",
              "4                  6                      3                3               2   \n",
              "\n",
              "   YearsInCurrentRole  YearsSinceLastPromotion  YearsWithCurrManager  \n",
              "0                   4                        0                     5  \n",
              "1                   7                        1                     7  \n",
              "2                   0                        0                     0  \n",
              "3                   7                        3                     0  \n",
              "4                   2                        2                     2  "
            ]
          },
          "metadata": {
            "tags": []
          },
          "execution_count": 4
        }
      ]
    },
    {
      "metadata": {
        "id": "CTIrkMAQg5fd",
        "colab_type": "code",
        "colab": {}
      },
      "cell_type": "code",
      "source": [
        "# Encoding categorical data\n",
        "from sklearn.preprocessing import LabelEncoder, OneHotEncoder\n",
        "labelencoder_X_1 = LabelEncoder()\n",
        "X[:, 1] = labelencoder_X_1.fit_transform(X[:, 1])\n",
        "labelencoder_X_2 = LabelEncoder()\n",
        "X[:, 3] = labelencoder_X_2.fit_transform(X[:, 3])\n",
        "labelencoder_X_3 = LabelEncoder()\n",
        "X[:, 6] = labelencoder_X_3.fit_transform(X[:, 6])\n",
        "labelencoder_X_4 = LabelEncoder()\n",
        "X[:, 9] = labelencoder_X_4.fit_transform(X[:, 9])\n",
        "labelencoder_X_5 = LabelEncoder()\n",
        "X[:, 13] = labelencoder_X_5.fit_transform(X[:, 13])\n",
        "labelencoder_X_6 = LabelEncoder()\n",
        "X[:, 15] = labelencoder_X_6.fit_transform(X[:, 15])\n",
        "labelencoder_X_7 = LabelEncoder()\n",
        "X[:, 19] = labelencoder_X_7.fit_transform(X[:, 19])\n",
        "labelencoder_y= LabelEncoder()\n",
        "y = labelencoder_y.fit_transform(y)\n",
        "\n",
        "#no dummy trap\n",
        "onehotencoder1 = OneHotEncoder(categorical_features = [1])\n",
        "X = onehotencoder1.fit_transform(X).toarray()\n",
        "X = X[:,1:]\n",
        "onehotencoder3 = OneHotEncoder(categorical_features = [4])\n",
        "X = onehotencoder3.fit_transform(X).toarray()\n",
        "X = X[:,1:]\n",
        "onehotencoder6 = OneHotEncoder(categorical_features = [8])\n",
        "X = onehotencoder6.fit_transform(X).toarray()\n",
        "X = X[:,1:]\n",
        "onehotencoder13 = OneHotEncoder(categorical_features = [19])\n",
        "X = onehotencoder13.fit_transform(X).toarray()\n",
        "X = X[:,1:]\n",
        "onehotencoder15 = OneHotEncoder(categorical_features = [28])\n",
        "X = onehotencoder15.fit_transform(X).toarray()\n",
        "X = X[:,1:]"
      ],
      "execution_count": 0,
      "outputs": []
    },
    {
      "metadata": {
        "id": "JTRJHyRTCKAU",
        "colab_type": "text"
      },
      "cell_type": "markdown",
      "source": [
        "### Splitt data into training and test set"
      ]
    },
    {
      "metadata": {
        "id": "W6OLb3ilCI7T",
        "colab_type": "code",
        "colab": {}
      },
      "cell_type": "code",
      "source": [
        "# Splitting the dataset into the Training set and Test set\n",
        "from sklearn.model_selection import train_test_split\n",
        "X_train, X_test, y_train, y_test = train_test_split(X, y, test_size = 0.2, random_state = 0)"
      ],
      "execution_count": 0,
      "outputs": []
    },
    {
      "metadata": {
        "id": "rqMI1LkMCkdl",
        "colab_type": "text"
      },
      "cell_type": "markdown",
      "source": [
        "### Feature Scaling"
      ]
    },
    {
      "metadata": {
        "id": "mq-xO2zvCgTB",
        "colab_type": "code",
        "colab": {}
      },
      "cell_type": "code",
      "source": [
        "# Feature Scaling\n",
        "from sklearn.preprocessing import StandardScaler\n",
        "sc = StandardScaler()\n",
        "X_train = sc.fit_transform(X_train)\n",
        "X_test = sc.transform(X_test)"
      ],
      "execution_count": 0,
      "outputs": []
    },
    {
      "metadata": {
        "id": "NwpzkuzIC1vn",
        "colab_type": "text"
      },
      "cell_type": "markdown",
      "source": [
        "## Part 2: Create Artificial Neural Network"
      ]
    },
    {
      "metadata": {
        "id": "Gv_s_yDSC-qk",
        "colab_type": "code",
        "outputId": "c85f7779-1e40-4a71-d892-f1be971eb599",
        "colab": {
          "base_uri": "https://localhost:8080/",
          "height": 34
        }
      },
      "cell_type": "code",
      "source": [
        "# Importing the Keras libraries and packages\n",
        "import keras\n",
        "from keras.models import Sequential\n",
        "from keras.layers import Dense\n",
        "from keras.layers import Dropout\n",
        "from keras.wrappers.scikit_learn import KerasClassifier\n",
        "from sklearn.model_selection import cross_val_score\n",
        "from sklearn.model_selection import GridSearchCV\n",
        "\n",
        "#Parameters\n",
        "dropout = 0.1\n",
        "epochs = 100\n",
        "batch_size = 30\n",
        "optimizer = 'adam'\n",
        "k = 20"
      ],
      "execution_count": 0,
      "outputs": [
        {
          "output_type": "stream",
          "text": [
            "Using TensorFlow backend.\n"
          ],
          "name": "stderr"
        }
      ]
    },
    {
      "metadata": {
        "id": "l_XL0UjBDyf5",
        "colab_type": "code",
        "colab": {}
      },
      "cell_type": "code",
      "source": [
        "def build_ann_classifier():\n",
        "  # Initialising the ANN\n",
        "  classifier = Sequential()\n",
        "  \n",
        "  # Adding the input layer and the first hidden layer\n",
        "  classifier.add(Dense(units = 16, kernel_initializer = 'uniform', activation = 'relu', input_shape = (X.shape[1],)))\n",
        "  \n",
        "  classifier.add(Dropout(dropout))\n",
        "\n",
        "  # Adding the output layer\n",
        "  classifier.add(Dense(units = 1, kernel_initializer = 'uniform', activation = 'sigmoid'))\n",
        "\n",
        "  # Compiling the ANN\n",
        "  classifier.compile(optimizer = 'adam', loss = 'binary_crossentropy', metrics = ['accuracy'])\n",
        "  \n",
        "  return classifier"
      ],
      "execution_count": 0,
      "outputs": []
    },
    {
      "metadata": {
        "id": "1GcnIncvEdZU",
        "colab_type": "code",
        "outputId": "7ed3132a-e9db-4e6b-8e98-1dc791c6a41e",
        "colab": {
          "base_uri": "https://localhost:8080/",
          "height": 68
        }
      },
      "cell_type": "code",
      "source": [
        "classifier = KerasClassifier(build_fn = build_ann_classifier, batch_size = 10, epochs = epochs, verbose = 0)\n",
        "accuracies = cross_val_score(estimator = classifier, X = X_train, y = y_train, cv = 10, n_jobs = -1)\n",
        "max = accuracies.max()\n",
        "print(max)\n",
        "mean = accuracies.mean()\n",
        "variance = accuracies.std()\n",
        "print(mean)\n",
        "print(variance)"
      ],
      "execution_count": 0,
      "outputs": [
        {
          "output_type": "stream",
          "text": [
            "0.9237288095183291\n",
            "0.8596697045390578\n",
            "0.030821566189208408\n"
          ],
          "name": "stdout"
        }
      ]
    },
    {
      "metadata": {
        "id": "hinWPuz3dFvK",
        "colab_type": "text"
      },
      "cell_type": "markdown",
      "source": [
        "### Tune parameters using GridSearchCV (Cross Validation)"
      ]
    },
    {
      "metadata": {
        "id": "t8axOE6IQOSO",
        "colab_type": "code",
        "colab": {}
      },
      "cell_type": "code",
      "source": [
        "def build_ann_classifier(optimizer):\n",
        "  # Initialising the ANN\n",
        "  classifier = Sequential()\n",
        "  \n",
        "  # Adding the input layer and the first hidden layer\n",
        "  classifier.add(Dense(units = 16, kernel_initializer = 'uniform', activation = 'relu', input_shape = (X.shape[1],)))\n",
        "  \n",
        "  classifier.add(Dropout(dropout))\n",
        "\n",
        "  # Adding the output layer\n",
        "  classifier.add(Dense(units = 1, kernel_initializer = 'uniform', activation = 'sigmoid'))\n",
        "\n",
        "  # Compiling the ANN\n",
        "  classifier.compile(optimizer = optimizer, loss = 'binary_crossentropy', metrics = ['accuracy'])\n",
        "  \n",
        "  return classifier\n",
        "\n",
        "\n",
        "classifier = KerasClassifier(build_fn = build_ann_classifier, verbose = 0)\n",
        "parameters = {'batch_size': [25, 32],\n",
        "              'epochs': [100],\n",
        "              'optimizer': ['adam', 'rmsprop']}\n",
        "grid_search = GridSearchCV(estimator = classifier,\n",
        "                           param_grid = parameters,\n",
        "                           scoring = 'accuracy',\n",
        "                           cv = 10)\n",
        "grid_search = grid_search.fit(X_train, y_train)\n",
        "best_parameters = grid_search.best_params_\n",
        "best_accuracy = grid_search.best_score_"
      ],
      "execution_count": 0,
      "outputs": []
    },
    {
      "metadata": {
        "id": "NozHhYqnbSpJ",
        "colab_type": "code",
        "outputId": "8e848987-a519-4c61-906f-ee0d6f8f29e4",
        "colab": {
          "base_uri": "https://localhost:8080/",
          "height": 34
        }
      },
      "cell_type": "code",
      "source": [
        "print(best_parameters)"
      ],
      "execution_count": 0,
      "outputs": [
        {
          "output_type": "stream",
          "text": [
            "{'batch_size': 25, 'epochs': 100, 'optimizer': 'adam'}\n"
          ],
          "name": "stdout"
        }
      ]
    },
    {
      "metadata": {
        "id": "s6wmR1EFck_4",
        "colab_type": "code",
        "colab": {}
      },
      "cell_type": "code",
      "source": [
        ""
      ],
      "execution_count": 0,
      "outputs": []
    }
  ]
}